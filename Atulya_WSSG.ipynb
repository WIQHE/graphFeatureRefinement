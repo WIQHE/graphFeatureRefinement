{
  "cells": [
    {
      "cell_type": "markdown",
      "metadata": {
        "id": "view-in-github",
        "colab_type": "text"
      },
      "source": [
        "<a href=\"https://colab.research.google.com/github/WIQHE/graphFeatureRefinement/blob/main/Atulya_WSSG.ipynb\" target=\"_parent\"><img src=\"https://colab.research.google.com/assets/colab-badge.svg\" alt=\"Open In Colab\"/></a>"
      ]
    },
    {
      "cell_type": "code",
      "execution_count": null,
      "metadata": {
        "id": "isgt-wSnoiBV",
        "outputId": "3fd7dc3f-ecc1-42e1-bc74-4272c7b2a034",
        "colab": {
          "base_uri": "https://localhost:8080/"
        }
      },
      "outputs": [
        {
          "output_type": "stream",
          "name": "stdout",
          "text": [
            "fatal: destination path 'Histographs' already exists and is not an empty directory.\n"
          ]
        }
      ],
      "source": [
        "! git clone https://github.com/WIQHE/Histographs.git\n"
      ]
    },
    {
      "cell_type": "code",
      "source": [],
      "metadata": {
        "id": "z_-iWV1oMOYK"
      },
      "execution_count": null,
      "outputs": []
    },
    {
      "cell_type": "code",
      "execution_count": null,
      "metadata": {
        "colab": {
          "base_uri": "https://localhost:8080/"
        },
        "id": "XCEW5frs24IP",
        "outputId": "588c5d2e-8c8b-4e1d-93b4-48b628e71a6f"
      },
      "outputs": [
        {
          "output_type": "stream",
          "name": "stdout",
          "text": [
            "True\n",
            "Tesla T4\n"
          ]
        }
      ],
      "source": [
        "import torch\n",
        "print(torch.cuda.is_available())  # should be True\n",
        "print(torch.cuda.get_device_name(0))\n",
        "torch.backends.cudnn.benchmark = True\n",
        " # should print your GPU\n"
      ]
    },
    {
      "cell_type": "code",
      "execution_count": null,
      "metadata": {
        "id": "bx4khFoWPZ_N",
        "colab": {
          "base_uri": "https://localhost:8080/"
        },
        "outputId": "9045ce98-97b7-402d-e599-4172c0679769"
      },
      "outputs": [
        {
          "output_type": "stream",
          "name": "stdout",
          "text": [
            "Using device: cuda\n",
            "\n"
          ]
        }
      ],
      "source": [
        "device = torch.device('cuda' if torch.cuda.is_available() else 'cpu')\n",
        "print('Using device:', device)\n",
        "print()\n"
      ]
    },
    {
      "cell_type": "code",
      "execution_count": null,
      "metadata": {
        "colab": {
          "base_uri": "https://localhost:8080/"
        },
        "id": "Ms4tQ2UbPlRj",
        "outputId": "87292005-ed4d-4fa3-fdb8-3f8bdaa0865d"
      },
      "outputs": [
        {
          "output_type": "stream",
          "name": "stdout",
          "text": [
            "Requirement already satisfied: torch-Geometric in /usr/local/lib/python3.11/dist-packages (2.6.1)\n",
            "Requirement already satisfied: aiohttp in /usr/local/lib/python3.11/dist-packages (from torch-Geometric) (3.12.14)\n",
            "Requirement already satisfied: fsspec in /usr/local/lib/python3.11/dist-packages (from torch-Geometric) (2025.3.0)\n",
            "Requirement already satisfied: jinja2 in /usr/local/lib/python3.11/dist-packages (from torch-Geometric) (3.1.6)\n",
            "Requirement already satisfied: numpy in /usr/local/lib/python3.11/dist-packages (from torch-Geometric) (2.0.2)\n",
            "Requirement already satisfied: psutil>=5.8.0 in /usr/local/lib/python3.11/dist-packages (from torch-Geometric) (5.9.5)\n",
            "Requirement already satisfied: pyparsing in /usr/local/lib/python3.11/dist-packages (from torch-Geometric) (3.2.3)\n",
            "Requirement already satisfied: requests in /usr/local/lib/python3.11/dist-packages (from torch-Geometric) (2.32.3)\n",
            "Requirement already satisfied: tqdm in /usr/local/lib/python3.11/dist-packages (from torch-Geometric) (4.67.1)\n",
            "Requirement already satisfied: aiohappyeyeballs>=2.5.0 in /usr/local/lib/python3.11/dist-packages (from aiohttp->torch-Geometric) (2.6.1)\n",
            "Requirement already satisfied: aiosignal>=1.4.0 in /usr/local/lib/python3.11/dist-packages (from aiohttp->torch-Geometric) (1.4.0)\n",
            "Requirement already satisfied: attrs>=17.3.0 in /usr/local/lib/python3.11/dist-packages (from aiohttp->torch-Geometric) (25.3.0)\n",
            "Requirement already satisfied: frozenlist>=1.1.1 in /usr/local/lib/python3.11/dist-packages (from aiohttp->torch-Geometric) (1.7.0)\n",
            "Requirement already satisfied: multidict<7.0,>=4.5 in /usr/local/lib/python3.11/dist-packages (from aiohttp->torch-Geometric) (6.6.3)\n",
            "Requirement already satisfied: propcache>=0.2.0 in /usr/local/lib/python3.11/dist-packages (from aiohttp->torch-Geometric) (0.3.2)\n",
            "Requirement already satisfied: yarl<2.0,>=1.17.0 in /usr/local/lib/python3.11/dist-packages (from aiohttp->torch-Geometric) (1.20.1)\n",
            "Requirement already satisfied: MarkupSafe>=2.0 in /usr/local/lib/python3.11/dist-packages (from jinja2->torch-Geometric) (3.0.2)\n",
            "Requirement already satisfied: charset-normalizer<4,>=2 in /usr/local/lib/python3.11/dist-packages (from requests->torch-Geometric) (3.4.2)\n",
            "Requirement already satisfied: idna<4,>=2.5 in /usr/local/lib/python3.11/dist-packages (from requests->torch-Geometric) (3.10)\n",
            "Requirement already satisfied: urllib3<3,>=1.21.1 in /usr/local/lib/python3.11/dist-packages (from requests->torch-Geometric) (2.5.0)\n",
            "Requirement already satisfied: certifi>=2017.4.17 in /usr/local/lib/python3.11/dist-packages (from requests->torch-Geometric) (2025.7.14)\n",
            "Requirement already satisfied: typing-extensions>=4.2 in /usr/local/lib/python3.11/dist-packages (from aiosignal>=1.4.0->aiohttp->torch-Geometric) (4.14.1)\n"
          ]
        }
      ],
      "source": [
        "! pip install torch-Geometric"
      ]
    },
    {
      "cell_type": "code",
      "execution_count": null,
      "metadata": {
        "id": "jdWEmyfItJiS",
        "colab": {
          "base_uri": "https://localhost:8080/"
        },
        "outputId": "97c70bfa-ad53-4c8d-a762-cf370d69b4ca"
      },
      "outputs": [
        {
          "output_type": "stream",
          "name": "stdout",
          "text": [
            "Requirement already satisfied: torch-Geometric in /usr/local/lib/python3.11/dist-packages (2.6.1)\n",
            "Requirement already satisfied: aiohttp in /usr/local/lib/python3.11/dist-packages (from torch-Geometric) (3.12.14)\n",
            "Requirement already satisfied: fsspec in /usr/local/lib/python3.11/dist-packages (from torch-Geometric) (2025.3.0)\n",
            "Requirement already satisfied: jinja2 in /usr/local/lib/python3.11/dist-packages (from torch-Geometric) (3.1.6)\n",
            "Requirement already satisfied: numpy in /usr/local/lib/python3.11/dist-packages (from torch-Geometric) (2.0.2)\n",
            "Requirement already satisfied: psutil>=5.8.0 in /usr/local/lib/python3.11/dist-packages (from torch-Geometric) (5.9.5)\n",
            "Requirement already satisfied: pyparsing in /usr/local/lib/python3.11/dist-packages (from torch-Geometric) (3.2.3)\n",
            "Requirement already satisfied: requests in /usr/local/lib/python3.11/dist-packages (from torch-Geometric) (2.32.3)\n",
            "Requirement already satisfied: tqdm in /usr/local/lib/python3.11/dist-packages (from torch-Geometric) (4.67.1)\n",
            "Requirement already satisfied: aiohappyeyeballs>=2.5.0 in /usr/local/lib/python3.11/dist-packages (from aiohttp->torch-Geometric) (2.6.1)\n",
            "Requirement already satisfied: aiosignal>=1.4.0 in /usr/local/lib/python3.11/dist-packages (from aiohttp->torch-Geometric) (1.4.0)\n",
            "Requirement already satisfied: attrs>=17.3.0 in /usr/local/lib/python3.11/dist-packages (from aiohttp->torch-Geometric) (25.3.0)\n",
            "Requirement already satisfied: frozenlist>=1.1.1 in /usr/local/lib/python3.11/dist-packages (from aiohttp->torch-Geometric) (1.7.0)\n",
            "Requirement already satisfied: multidict<7.0,>=4.5 in /usr/local/lib/python3.11/dist-packages (from aiohttp->torch-Geometric) (6.6.3)\n",
            "Requirement already satisfied: propcache>=0.2.0 in /usr/local/lib/python3.11/dist-packages (from aiohttp->torch-Geometric) (0.3.2)\n",
            "Requirement already satisfied: yarl<2.0,>=1.17.0 in /usr/local/lib/python3.11/dist-packages (from aiohttp->torch-Geometric) (1.20.1)\n",
            "Requirement already satisfied: MarkupSafe>=2.0 in /usr/local/lib/python3.11/dist-packages (from jinja2->torch-Geometric) (3.0.2)\n",
            "Requirement already satisfied: charset-normalizer<4,>=2 in /usr/local/lib/python3.11/dist-packages (from requests->torch-Geometric) (3.4.2)\n",
            "Requirement already satisfied: idna<4,>=2.5 in /usr/local/lib/python3.11/dist-packages (from requests->torch-Geometric) (3.10)\n",
            "Requirement already satisfied: urllib3<3,>=1.21.1 in /usr/local/lib/python3.11/dist-packages (from requests->torch-Geometric) (2.5.0)\n",
            "Requirement already satisfied: certifi>=2017.4.17 in /usr/local/lib/python3.11/dist-packages (from requests->torch-Geometric) (2025.7.14)\n",
            "Requirement already satisfied: typing-extensions>=4.2 in /usr/local/lib/python3.11/dist-packages (from aiosignal>=1.4.0->aiohttp->torch-Geometric) (4.14.1)\n"
          ]
        }
      ],
      "source": [
        "# ! pip install torch-scatter -f https://data.pyg.org/whl/torch-2.1.0+cpu.html# Install PyTorch Geometric and dependencies\n",
        "# ! pip install torch-sparse -f https://data.pyg.org/whl/torch-2.1.0+cpu.htmlimport os\n",
        "# ! pip install torch-sparse -f https://data.pyg.org/whl/torch-2.1.0+cpu.htmlos.system\n",
        "# ! pip install torch-sparse -f https://data.pyg.org/whl/torch-2.1.0+cpu.html\n",
        "! pip install torch-Geometric\n"
      ]
    },
    {
      "cell_type": "code",
      "source": [
        "# run_pipeline_fixed.py\n",
        "\n",
        "import pandas as pd\n",
        "import torch\n",
        "import torch.nn.functional as F\n",
        "from torch import nn\n",
        "from torch_geometric.datasets import TUDataset\n",
        "from torch_geometric.loader import DataLoader\n",
        "from torch_geometric.data import Data\n",
        "from torch_geometric.nn import GATConv\n",
        "import numpy as np\n",
        "from sklearn.model_selection import train_test_split\n",
        "import os\n",
        "\n",
        "# Enable CuDNN autotuner for potential speedups\n",
        "torch.backends.cudnn.benchmark = True\n",
        "\n",
        "# ─── Hyperparameters ───────────────────────────────────────────────────────────\n",
        "DATASET_NAME   = 'MUTAG'      # fallback\n",
        "WINDOW_SIZE    = 150          # ~5–10% of a 1–2k–node graph\n",
        "STEP_SIZE      = WINDOW_SIZE // 2\n",
        "HIDDEN_DIM     = 128\n",
        "NUM_HEADS      = 8\n",
        "NUM_LAYERS     = 3\n",
        "BETA           = 0.02         # reduced reg strength\n",
        "SIGMA          = 1.8          # wider RBF\n",
        "EPS            = 1e-8\n",
        "LR             = 5e-4\n",
        "EPOCHS         = 25           # fewer epochs + early stopping\n",
        "BATCH_SIZE     = 12           # small batch for big subgraphs\n",
        "WEIGHT_DECAY   = 1e-4\n",
        "DROPOUT        = 0.4\n",
        "RANDOM_STATE   = 42\n",
        "DEVICE         = torch.device('cuda' if torch.cuda.is_available() else 'cpu')\n",
        "\n",
        "\n",
        "# ─── 1) Subgraph Extraction via Sliding-Window ─────────────────────────────────\n",
        "def extract_subgraphs(data: Data, window_size: int, step: int):\n",
        "    N = data.num_nodes\n",
        "    subs = []\n",
        "    for start in range(0, max(1, N - window_size + 1), step):\n",
        "        idx = torch.arange(start, start + window_size).clamp(0, N-1)\n",
        "        mask = idx.unique()\n",
        "        sub_x = data.x[mask]\n",
        "        edge_index = data.edge_index.cpu().numpy()\n",
        "        node_map = {int(n): i for i, n in enumerate(mask.tolist())}\n",
        "        keep = [(node_map[u], node_map[v])\n",
        "                for u, v in edge_index.T\n",
        "                if u in node_map and v in node_map]\n",
        "        if not keep:\n",
        "            continue\n",
        "        ei = torch.tensor(keep, dtype=torch.long).t().contiguous()\n",
        "        subs.append(Data(x=sub_x,\n",
        "                         edge_index=ei,\n",
        "                         y=data.y,\n",
        "                         num_nodes=mask.size(0)))\n",
        "    return subs\n",
        "\n",
        "\n",
        "# ─── 2) Laplacian-Based Feature Smoothing ───────────────────────────────────────\n",
        "def smooth_features(x: torch.Tensor, beta: float,\n",
        "                    sigma: float = SIGMA, eps: float = EPS):\n",
        "    X = x.cpu().numpy()\n",
        "    n = X.shape[0]\n",
        "    D2 = np.sum((X[:, None] - X[None, :])**2, axis=-1)\n",
        "    W  = np.exp(-D2 / (2 * sigma**2 + eps))\n",
        "    d  = W.sum(axis=1)\n",
        "    D_inv_sqrt = np.diag(1.0 / np.sqrt(d + eps))\n",
        "    L  = np.eye(n) - D_inv_sqrt @ W @ D_inv_sqrt\n",
        "    A  = np.eye(n) + beta * L\n",
        "    Xs = np.linalg.solve(A, X)\n",
        "    return torch.tensor(Xs, dtype=torch.float32)\n",
        "\n",
        "\n",
        "# ─── 3) GAT Model ──────────────────────────────────────────────────────────────\n",
        "class GATGraphClassifier(nn.Module):\n",
        "    def __init__(self, in_channels, hidden_dim, num_classes,\n",
        "                 num_layers, num_heads, dropout):\n",
        "        super().__init__()\n",
        "        self.convs = nn.ModuleList()\n",
        "        # first GAT layer\n",
        "        self.convs.append(GATConv(in_channels,\n",
        "                                  hidden_dim // num_heads,\n",
        "                                  heads=num_heads,\n",
        "                                  concat=True,\n",
        "                                  dropout=dropout))\n",
        "        # additional layers\n",
        "        for _ in range(num_layers - 1):\n",
        "            self.convs.append(GATConv(hidden_dim,\n",
        "                                      hidden_dim // num_heads,\n",
        "                                      heads=num_heads,\n",
        "                                      concat=True,\n",
        "                                      dropout=dropout))\n",
        "        self.lin = nn.Linear(hidden_dim, num_classes)\n",
        "\n",
        "    def forward(self, x, edge_index, batch):\n",
        "        for conv in self.convs:\n",
        "            x = F.elu(conv(x, edge_index))\n",
        "        batch_size = int(batch.max().item()) + 1\n",
        "        out = torch.zeros(batch_size, x.size(1), device=x.device)\n",
        "        out = out.index_add(0, batch, x)\n",
        "        counts = torch.bincount(batch)\n",
        "        out = out / counts.unsqueeze(1).float()\n",
        "        return self.lin(out), x\n",
        "\n",
        "\n",
        "# ─── 4) Training & Evaluation ───────────────────────────────────────────────────\n",
        "def train_one_epoch(model, loader, optimizer, beta):\n",
        "    model.train()\n",
        "    total_loss = 0.0\n",
        "    for data in loader:\n",
        "        data = data.to(DEVICE, non_blocking=True)\n",
        "        optimizer.zero_grad()\n",
        "        logits, node_emb = model(data.x, data.edge_index, data.batch)\n",
        "        ce = F.cross_entropy(logits, data.y)\n",
        "        reg = 0.0\n",
        "        for graph_id in torch.unique(data.batch):\n",
        "            mask = (data.batch == graph_id)\n",
        "            Xi = node_emb[mask]\n",
        "            Xi_np = Xi.detach().cpu().numpy()\n",
        "            D2 = np.sum((Xi_np[:, None] - Xi_np[None, :])**2, axis=-1)\n",
        "            W  = np.exp(-D2 / (2 * SIGMA**2 + EPS))\n",
        "            d  = W.sum(1)\n",
        "            D_inv_sqrt = np.diag(1.0 / np.sqrt(d + EPS))\n",
        "            L  = torch.tensor(np.eye(len(d)) - D_inv_sqrt @ W @ D_inv_sqrt,\n",
        "                              device=Xi.device, dtype=torch.float32)\n",
        "            reg += torch.trace(Xi.t() @ L @ Xi)\n",
        "        loss = ce + beta * reg\n",
        "        loss.backward()\n",
        "        optimizer.step()\n",
        "        total_loss += loss.item() * data.num_graphs\n",
        "    return total_loss / len(loader.dataset)\n",
        "\n",
        "\n",
        "@torch.no_grad()\n",
        "def evaluate(model, loader):\n",
        "    model.eval()\n",
        "    correct = 0\n",
        "    for data in loader:\n",
        "        data = data.to(DEVICE, non_blocking=True)\n",
        "        logits, _ = model(data.x, data.edge_index, data.batch)\n",
        "        pred = logits.argmax(dim=1)\n",
        "        correct += int((pred == data.y).sum())\n",
        "    return correct / len(loader.dataset)\n",
        "\n",
        "\n",
        "def run_pipeline(train_csv: str = None, test_csv: str = None):\n",
        "    # ─── 1) Load dataset ────────────────────────────────────────────────────────\n",
        "    if train_csv and test_csv:\n",
        "        train_meta = pd.read_csv(train_csv)\n",
        "        test_meta  = pd.read_csv(test_csv)\n",
        "        train_ds, test_ds = [], []\n",
        "        for df, ds in [(train_meta, train_ds), (test_meta, test_ds)]:\n",
        "            for _, row in df.iterrows():\n",
        "                path = row['graph_path']\n",
        "                g: Data = torch.load(path, weights_only=False)\n",
        "                g.y = torch.tensor([row['label']], dtype=torch.long)\n",
        "                ds.append(g)\n",
        "        num_features = train_ds[0].x.shape[1]\n",
        "        num_classes  = int(max([g.y.item() for g in train_ds + test_ds])) + 1\n",
        "    else:\n",
        "        dataset = TUDataset(root='./data', name=DATASET_NAME)\n",
        "        train_ds, test_ds = train_test_split(\n",
        "            dataset,\n",
        "            test_size=0.2,\n",
        "            stratify=[d.y.item() for d in dataset],\n",
        "            random_state=RANDOM_STATE\n",
        "        )\n",
        "        num_features = dataset.num_features\n",
        "        num_classes  = dataset.num_classes\n",
        "\n",
        "    # ─── 2) Build augmented (subgraph + smoothed) lists ─────────────────────────\n",
        "    train_aug, test_aug = [], []\n",
        "    for ds, aug in [(train_ds, train_aug), (test_ds, test_aug)]:\n",
        "        for data in ds:\n",
        "            subs = extract_subgraphs(data, WINDOW_SIZE, STEP_SIZE)\n",
        "            for g in subs:\n",
        "                g.x = smooth_features(g.x, BETA)\n",
        "                aug.append(g)\n",
        "\n",
        "    # ─── 3) DataLoaders with pin_memory & workers ───────────────────────────────\n",
        "    train_loader = DataLoader(\n",
        "        train_aug,\n",
        "        batch_size=BATCH_SIZE,\n",
        "        shuffle=True,\n",
        "        pin_memory=True,\n",
        "        num_workers=4\n",
        "    )\n",
        "    test_loader = DataLoader(\n",
        "        test_aug,\n",
        "        batch_size=BATCH_SIZE,\n",
        "        pin_memory=True,\n",
        "        num_workers=4\n",
        "    )\n",
        "\n",
        "    # ─── 4) Model & optimizer ───────────────────────────────────────────────────\n",
        "    model = GATGraphClassifier(\n",
        "        in_channels=num_features,\n",
        "        hidden_dim=HIDDEN_DIM,\n",
        "        num_classes=num_classes,\n",
        "        num_layers=NUM_LAYERS,\n",
        "        num_heads=NUM_HEADS,\n",
        "        dropout=DROPOUT\n",
        "    ).to(DEVICE)\n",
        "    optimizer = torch.optim.Adam(\n",
        "        model.parameters(),\n",
        "        lr=LR,\n",
        "        weight_decay=WEIGHT_DECAY\n",
        "    )\n",
        "\n",
        "    # ─── 5) Training loop with early saving ─────────────────────────────────────\n",
        "    best_val = 0.0\n",
        "    for epoch in range(1, EPOCHS + 1):\n",
        "        loss = train_one_epoch(model, train_loader, optimizer, BETA)\n",
        "        acc  = evaluate(model, test_loader)\n",
        "        if epoch == 1 or epoch % 5 == 0:\n",
        "            print(f\"Epoch {epoch:02d} | Loss: {loss:.4f} | Test Acc: {acc:.4f}\")\n",
        "        if acc > best_val:\n",
        "            best_val = acc\n",
        "            torch.save(model.state_dict(), 'best_model.pt')\n",
        "\n",
        "    print(f\"Best Test Accuracy: {best_val:.4f}\")\n",
        "\n",
        "\n",
        "# To run:\n",
        "# run_pipeline()\n",
        "# or\n",
        "# run_pipeline('/mnt/data/train_meta.csv', '/mnt/data/test_meta.csv')\n"
      ],
      "metadata": {
        "id": "HEReGnbU4EZd"
      },
      "execution_count": null,
      "outputs": []
    },
    {
      "cell_type": "code",
      "source": [
        "! mv  sample_data/graphs_new_pannuke_edgeAtr ../"
      ],
      "metadata": {
        "colab": {
          "base_uri": "https://localhost:8080/"
        },
        "id": "qQ6fSt9C_7fq",
        "outputId": "def22824-9f24-435c-a4d0-826befb0d05b"
      },
      "execution_count": null,
      "outputs": [
        {
          "output_type": "stream",
          "name": "stdout",
          "text": [
            "mv: cannot stat 'sample_data/graphs_new_pannuke_edgeAtr': No such file or directory\n"
          ]
        }
      ]
    },
    {
      "cell_type": "code",
      "source": [
        "#this is runng the same code on our created graphs_new_pannuke_edgeAtr\n",
        "run_pipeline('./sample_data/train_meta.csv', './sample_data/test_meta.csv')"
      ],
      "metadata": {
        "id": "u8sME-n7qWt6",
        "colab": {
          "base_uri": "https://localhost:8080/"
        },
        "outputId": "5fdf4870-0d38-4ef7-b1ea-791693e95dba"
      },
      "execution_count": null,
      "outputs": [
        {
          "output_type": "stream",
          "name": "stderr",
          "text": [
            "/usr/local/lib/python3.11/dist-packages/torch/utils/data/dataloader.py:624: UserWarning: This DataLoader will create 4 worker processes in total. Our suggested max number of worker in current system is 2, which is smaller than what this DataLoader is going to create. Please be aware that excessive worker creation might get DataLoader running slow or even freeze, lower the worker number to avoid potential slowness/freeze if necessary.\n",
            "  warnings.warn(\n"
          ]
        },
        {
          "output_type": "stream",
          "name": "stdout",
          "text": [
            "Epoch 01 | Loss: 4.1887 | Test Acc: 0.1776\n",
            "Epoch 05 | Loss: 1.5706 | Test Acc: 0.2110\n",
            "Epoch 10 | Loss: 153.6502 | Test Acc: 0.3361\n",
            "Epoch 15 | Loss: 33.6410 | Test Acc: 0.3361\n",
            "Epoch 20 | Loss: 12.3412 | Test Acc: 0.3361\n",
            "Epoch 25 | Loss: 4.7610 | Test Acc: 0.3361\n",
            "Best Test Accuracy: 0.3361\n"
          ]
        }
      ]
    }
  ],
  "metadata": {
    "accelerator": "GPU",
    "colab": {
      "gpuType": "T4",
      "provenance": [],
      "include_colab_link": true
    },
    "kernelspec": {
      "display_name": "Python 3",
      "name": "python3"
    },
    "language_info": {
      "name": "python"
    }
  },
  "nbformat": 4,
  "nbformat_minor": 0
}